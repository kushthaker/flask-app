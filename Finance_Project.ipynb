{
 "cells": [
  {
   "cell_type": "markdown",
   "metadata": {},
   "source": [
    "# Finance Project Test Notebook\n",
    "\n",
    "Creating ipython notebook for use in documenting algorithm creation and backtesting process.\n"
   ]
  },
  {
   "cell_type": "code",
   "execution_count": 11,
   "metadata": {
    "collapsed": true
   },
   "outputs": [],
   "source": [
    "import zipline"
   ]
  },
  {
   "cell_type": "code",
   "execution_count": 13,
   "metadata": {
    "collapsed": false
   },
   "outputs": [
    {
     "name": "stdout",
     "output_type": "stream",
     "text": [
      "AAPL\n",
      "data files aren't distributed with source.\n",
      "Fetching data from Yahoo Finance.\n",
      "data files aren't distributed with source.\n",
      "Fetching data from data.treasury.gov\n"
     ]
    }
   ],
   "source": [
    "#ipython command to run algorithm\n",
    "\n",
    "%%zipline --start 2010-06-06 --end 2014-06-06 --symbols AAPL -o df\n",
    "\n",
    "from zipline.api import order, record, symbol\n",
    "\n",
    "def initialize(context):\n",
    "    pass\n",
    "\n",
    "def handle_data(context, data):\n",
    "    order(symbol(\"AAPL\"), 10)\n",
    "    record(AAPL=data[symbol(\"AAPL\")].price)"
   ]
  },
  {
   "cell_type": "code",
   "execution_count": 14,
   "metadata": {
    "collapsed": false
   },
   "outputs": [
    {
     "data": {
      "text/html": [
       "<div>\n",
       "<table border=\"1\" class=\"dataframe\">\n",
       "  <thead>\n",
       "    <tr style=\"text-align: right;\">\n",
       "      <th></th>\n",
       "      <th>AAPL</th>\n",
       "      <th>capital_used</th>\n",
       "      <th>ending_cash</th>\n",
       "      <th>ending_value</th>\n",
       "      <th>orders</th>\n",
       "      <th>period_close</th>\n",
       "      <th>period_open</th>\n",
       "      <th>pnl</th>\n",
       "      <th>portfolio_value</th>\n",
       "      <th>positions</th>\n",
       "      <th>returns</th>\n",
       "      <th>starting_cash</th>\n",
       "      <th>starting_value</th>\n",
       "      <th>transactions</th>\n",
       "    </tr>\n",
       "  </thead>\n",
       "  <tbody>\n",
       "    <tr>\n",
       "      <th>2010-06-07 20:00:00</th>\n",
       "      <td>33.522007</td>\n",
       "      <td>0.00000</td>\n",
       "      <td>10000000.00000</td>\n",
       "      <td>0.00000</td>\n",
       "      <td>[{u'status': 0, u'created': 2010-06-07 00:00:0...</td>\n",
       "      <td>2010-06-07 20:00:00+00:00</td>\n",
       "      <td>2010-06-07 13:31:00+00:00</td>\n",
       "      <td>0.00000</td>\n",
       "      <td>10000000.00000</td>\n",
       "      <td>[]</td>\n",
       "      <td>0.000000e+00</td>\n",
       "      <td>10000000.00000</td>\n",
       "      <td>0.00000</td>\n",
       "      <td>[]</td>\n",
       "    </tr>\n",
       "    <tr>\n",
       "      <th>2010-06-08 20:00:00</th>\n",
       "      <td>33.306934</td>\n",
       "      <td>-333.36934</td>\n",
       "      <td>9999666.63066</td>\n",
       "      <td>333.06934</td>\n",
       "      <td>[{u'status': 1, u'created': 2010-06-07 00:00:0...</td>\n",
       "      <td>2010-06-08 20:00:00+00:00</td>\n",
       "      <td>2010-06-08 13:31:00+00:00</td>\n",
       "      <td>-0.30000</td>\n",
       "      <td>9999999.70000</td>\n",
       "      <td>[{u'amount': 10, u'last_sale_price': 33.306934...</td>\n",
       "      <td>-3.000000e-08</td>\n",
       "      <td>10000000.00000</td>\n",
       "      <td>0.00000</td>\n",
       "      <td>[{u'commission': 0.3, u'amount': 10, u'sid': u...</td>\n",
       "    </tr>\n",
       "    <tr>\n",
       "      <th>2010-06-09 20:00:00</th>\n",
       "      <td>32.488054</td>\n",
       "      <td>-325.18054</td>\n",
       "      <td>9999341.45012</td>\n",
       "      <td>649.76108</td>\n",
       "      <td>[{u'status': 1, u'created': 2010-06-08 00:00:0...</td>\n",
       "      <td>2010-06-09 20:00:00+00:00</td>\n",
       "      <td>2010-06-09 13:31:00+00:00</td>\n",
       "      <td>-8.48880</td>\n",
       "      <td>9999991.21120</td>\n",
       "      <td>[{u'amount': 20, u'last_sale_price': 32.488054...</td>\n",
       "      <td>-8.488800e-07</td>\n",
       "      <td>9999666.63066</td>\n",
       "      <td>333.06934</td>\n",
       "      <td>[{u'commission': 0.3, u'amount': 10, u'sid': u...</td>\n",
       "    </tr>\n",
       "    <tr>\n",
       "      <th>2010-06-10 20:00:00</th>\n",
       "      <td>33.464565</td>\n",
       "      <td>-334.94565</td>\n",
       "      <td>9999006.50447</td>\n",
       "      <td>1003.93695</td>\n",
       "      <td>[{u'status': 1, u'created': 2010-06-09 00:00:0...</td>\n",
       "      <td>2010-06-10 20:00:00+00:00</td>\n",
       "      <td>2010-06-10 13:31:00+00:00</td>\n",
       "      <td>19.23022</td>\n",
       "      <td>10000010.44142</td>\n",
       "      <td>[{u'amount': 30, u'last_sale_price': 33.464565...</td>\n",
       "      <td>1.923024e-06</td>\n",
       "      <td>9999341.45012</td>\n",
       "      <td>649.76108</td>\n",
       "      <td>[{u'commission': 0.3, u'amount': 10, u'sid': u...</td>\n",
       "    </tr>\n",
       "    <tr>\n",
       "      <th>2010-06-11 20:00:00</th>\n",
       "      <td>33.865321</td>\n",
       "      <td>-338.95321</td>\n",
       "      <td>9998667.55126</td>\n",
       "      <td>1354.61284</td>\n",
       "      <td>[{u'status': 1, u'created': 2010-06-10 00:00:0...</td>\n",
       "      <td>2010-06-11 20:00:00+00:00</td>\n",
       "      <td>2010-06-11 13:31:00+00:00</td>\n",
       "      <td>11.72268</td>\n",
       "      <td>10000022.16410</td>\n",
       "      <td>[{u'amount': 40, u'last_sale_price': 33.865321...</td>\n",
       "      <td>1.172267e-06</td>\n",
       "      <td>9999006.50447</td>\n",
       "      <td>1003.93695</td>\n",
       "      <td>[{u'commission': 0.3, u'amount': 10, u'sid': u...</td>\n",
       "    </tr>\n",
       "  </tbody>\n",
       "</table>\n",
       "</div>"
      ],
      "text/plain": [
       "                          AAPL  capital_used     ending_cash  ending_value  \\\n",
       "2010-06-07 20:00:00  33.522007       0.00000  10000000.00000       0.00000   \n",
       "2010-06-08 20:00:00  33.306934    -333.36934   9999666.63066     333.06934   \n",
       "2010-06-09 20:00:00  32.488054    -325.18054   9999341.45012     649.76108   \n",
       "2010-06-10 20:00:00  33.464565    -334.94565   9999006.50447    1003.93695   \n",
       "2010-06-11 20:00:00  33.865321    -338.95321   9998667.55126    1354.61284   \n",
       "\n",
       "                                                                orders  \\\n",
       "2010-06-07 20:00:00  [{u'status': 0, u'created': 2010-06-07 00:00:0...   \n",
       "2010-06-08 20:00:00  [{u'status': 1, u'created': 2010-06-07 00:00:0...   \n",
       "2010-06-09 20:00:00  [{u'status': 1, u'created': 2010-06-08 00:00:0...   \n",
       "2010-06-10 20:00:00  [{u'status': 1, u'created': 2010-06-09 00:00:0...   \n",
       "2010-06-11 20:00:00  [{u'status': 1, u'created': 2010-06-10 00:00:0...   \n",
       "\n",
       "                                  period_close                period_open  \\\n",
       "2010-06-07 20:00:00  2010-06-07 20:00:00+00:00  2010-06-07 13:31:00+00:00   \n",
       "2010-06-08 20:00:00  2010-06-08 20:00:00+00:00  2010-06-08 13:31:00+00:00   \n",
       "2010-06-09 20:00:00  2010-06-09 20:00:00+00:00  2010-06-09 13:31:00+00:00   \n",
       "2010-06-10 20:00:00  2010-06-10 20:00:00+00:00  2010-06-10 13:31:00+00:00   \n",
       "2010-06-11 20:00:00  2010-06-11 20:00:00+00:00  2010-06-11 13:31:00+00:00   \n",
       "\n",
       "                          pnl  portfolio_value  \\\n",
       "2010-06-07 20:00:00   0.00000   10000000.00000   \n",
       "2010-06-08 20:00:00  -0.30000    9999999.70000   \n",
       "2010-06-09 20:00:00  -8.48880    9999991.21120   \n",
       "2010-06-10 20:00:00  19.23022   10000010.44142   \n",
       "2010-06-11 20:00:00  11.72268   10000022.16410   \n",
       "\n",
       "                                                             positions  \\\n",
       "2010-06-07 20:00:00                                                 []   \n",
       "2010-06-08 20:00:00  [{u'amount': 10, u'last_sale_price': 33.306934...   \n",
       "2010-06-09 20:00:00  [{u'amount': 20, u'last_sale_price': 32.488054...   \n",
       "2010-06-10 20:00:00  [{u'amount': 30, u'last_sale_price': 33.464565...   \n",
       "2010-06-11 20:00:00  [{u'amount': 40, u'last_sale_price': 33.865321...   \n",
       "\n",
       "                          returns   starting_cash  starting_value  \\\n",
       "2010-06-07 20:00:00  0.000000e+00  10000000.00000         0.00000   \n",
       "2010-06-08 20:00:00 -3.000000e-08  10000000.00000         0.00000   \n",
       "2010-06-09 20:00:00 -8.488800e-07   9999666.63066       333.06934   \n",
       "2010-06-10 20:00:00  1.923024e-06   9999341.45012       649.76108   \n",
       "2010-06-11 20:00:00  1.172267e-06   9999006.50447      1003.93695   \n",
       "\n",
       "                                                          transactions  \n",
       "2010-06-07 20:00:00                                                 []  \n",
       "2010-06-08 20:00:00  [{u'commission': 0.3, u'amount': 10, u'sid': u...  \n",
       "2010-06-09 20:00:00  [{u'commission': 0.3, u'amount': 10, u'sid': u...  \n",
       "2010-06-10 20:00:00  [{u'commission': 0.3, u'amount': 10, u'sid': u...  \n",
       "2010-06-11 20:00:00  [{u'commission': 0.3, u'amount': 10, u'sid': u...  "
      ]
     },
     "execution_count": 14,
     "metadata": {},
     "output_type": "execute_result"
    }
   ],
   "source": [
    "df.head()"
   ]
  },
  {
   "cell_type": "code",
   "execution_count": 20,
   "metadata": {
    "collapsed": true
   },
   "outputs": [],
   "source": [
    "sliced_df = df[[\"AAPL\", \"orders\", \"transactions\", \"positions\", \"returns\"]]"
   ]
  },
  {
   "cell_type": "code",
   "execution_count": 21,
   "metadata": {
    "collapsed": false
   },
   "outputs": [
    {
     "data": {
      "text/html": [
       "<div>\n",
       "<table border=\"1\" class=\"dataframe\">\n",
       "  <thead>\n",
       "    <tr style=\"text-align: right;\">\n",
       "      <th></th>\n",
       "      <th>AAPL</th>\n",
       "      <th>orders</th>\n",
       "      <th>transactions</th>\n",
       "      <th>positions</th>\n",
       "      <th>returns</th>\n",
       "    </tr>\n",
       "  </thead>\n",
       "  <tbody>\n",
       "    <tr>\n",
       "      <th>2010-06-07 20:00:00</th>\n",
       "      <td>33.522007</td>\n",
       "      <td>[{u'status': 0, u'created': 2010-06-07 00:00:0...</td>\n",
       "      <td>[]</td>\n",
       "      <td>[]</td>\n",
       "      <td>0.000000e+00</td>\n",
       "    </tr>\n",
       "    <tr>\n",
       "      <th>2010-06-08 20:00:00</th>\n",
       "      <td>33.306934</td>\n",
       "      <td>[{u'status': 1, u'created': 2010-06-07 00:00:0...</td>\n",
       "      <td>[{u'commission': 0.3, u'amount': 10, u'sid': u...</td>\n",
       "      <td>[{u'amount': 10, u'last_sale_price': 33.306934...</td>\n",
       "      <td>-3.000000e-08</td>\n",
       "    </tr>\n",
       "    <tr>\n",
       "      <th>2010-06-09 20:00:00</th>\n",
       "      <td>32.488054</td>\n",
       "      <td>[{u'status': 1, u'created': 2010-06-08 00:00:0...</td>\n",
       "      <td>[{u'commission': 0.3, u'amount': 10, u'sid': u...</td>\n",
       "      <td>[{u'amount': 20, u'last_sale_price': 32.488054...</td>\n",
       "      <td>-8.488800e-07</td>\n",
       "    </tr>\n",
       "    <tr>\n",
       "      <th>2010-06-10 20:00:00</th>\n",
       "      <td>33.464565</td>\n",
       "      <td>[{u'status': 1, u'created': 2010-06-09 00:00:0...</td>\n",
       "      <td>[{u'commission': 0.3, u'amount': 10, u'sid': u...</td>\n",
       "      <td>[{u'amount': 30, u'last_sale_price': 33.464565...</td>\n",
       "      <td>1.923024e-06</td>\n",
       "    </tr>\n",
       "    <tr>\n",
       "      <th>2010-06-11 20:00:00</th>\n",
       "      <td>33.865321</td>\n",
       "      <td>[{u'status': 1, u'created': 2010-06-10 00:00:0...</td>\n",
       "      <td>[{u'commission': 0.3, u'amount': 10, u'sid': u...</td>\n",
       "      <td>[{u'amount': 40, u'last_sale_price': 33.865321...</td>\n",
       "      <td>1.172267e-06</td>\n",
       "    </tr>\n",
       "  </tbody>\n",
       "</table>\n",
       "</div>"
      ],
      "text/plain": [
       "                          AAPL  \\\n",
       "2010-06-07 20:00:00  33.522007   \n",
       "2010-06-08 20:00:00  33.306934   \n",
       "2010-06-09 20:00:00  32.488054   \n",
       "2010-06-10 20:00:00  33.464565   \n",
       "2010-06-11 20:00:00  33.865321   \n",
       "\n",
       "                                                                orders  \\\n",
       "2010-06-07 20:00:00  [{u'status': 0, u'created': 2010-06-07 00:00:0...   \n",
       "2010-06-08 20:00:00  [{u'status': 1, u'created': 2010-06-07 00:00:0...   \n",
       "2010-06-09 20:00:00  [{u'status': 1, u'created': 2010-06-08 00:00:0...   \n",
       "2010-06-10 20:00:00  [{u'status': 1, u'created': 2010-06-09 00:00:0...   \n",
       "2010-06-11 20:00:00  [{u'status': 1, u'created': 2010-06-10 00:00:0...   \n",
       "\n",
       "                                                          transactions  \\\n",
       "2010-06-07 20:00:00                                                 []   \n",
       "2010-06-08 20:00:00  [{u'commission': 0.3, u'amount': 10, u'sid': u...   \n",
       "2010-06-09 20:00:00  [{u'commission': 0.3, u'amount': 10, u'sid': u...   \n",
       "2010-06-10 20:00:00  [{u'commission': 0.3, u'amount': 10, u'sid': u...   \n",
       "2010-06-11 20:00:00  [{u'commission': 0.3, u'amount': 10, u'sid': u...   \n",
       "\n",
       "                                                             positions  \\\n",
       "2010-06-07 20:00:00                                                 []   \n",
       "2010-06-08 20:00:00  [{u'amount': 10, u'last_sale_price': 33.306934...   \n",
       "2010-06-09 20:00:00  [{u'amount': 20, u'last_sale_price': 32.488054...   \n",
       "2010-06-10 20:00:00  [{u'amount': 30, u'last_sale_price': 33.464565...   \n",
       "2010-06-11 20:00:00  [{u'amount': 40, u'last_sale_price': 33.865321...   \n",
       "\n",
       "                          returns  \n",
       "2010-06-07 20:00:00  0.000000e+00  \n",
       "2010-06-08 20:00:00 -3.000000e-08  \n",
       "2010-06-09 20:00:00 -8.488800e-07  \n",
       "2010-06-10 20:00:00  1.923024e-06  \n",
       "2010-06-11 20:00:00  1.172267e-06  "
      ]
     },
     "execution_count": 21,
     "metadata": {},
     "output_type": "execute_result"
    }
   ],
   "source": [
    "sliced_df.head()"
   ]
  },
  {
   "cell_type": "code",
   "execution_count": 36,
   "metadata": {
    "collapsed": false
   },
   "outputs": [
    {
     "name": "stdout",
     "output_type": "stream",
     "text": [
      "AAPL\n"
     ]
    }
   ],
   "source": [
    "#manual method of running alorithm\n",
    "\n",
    "import pytz\n",
    "from datetime import datetime\n",
    "\n",
    "from zipline.algorithm import TradingAlgorithm\n",
    "from zipline.utils.factory import load_bars_from_yahoo\n",
    "\n",
    "#start and end datetime objects with utc spec\n",
    "start = datetime(2013, 6, 6, 0, 0, 0, 0, pytz.utc)\n",
    "end = datetime(2014, 6, 6, 0, 0, 0, 0, pytz.utc)\n",
    "\n",
    "stock_data = load_bars_from_yahoo(stocks=[\"AAPL\"], start=start, end=end)\n",
    "\n",
    "#define algo\n",
    "def initialize(context):\n",
    "    pass\n",
    "\n",
    "def handle_data(context, data):\n",
    "    order(symbol(\"AAPL\"), 20)\n",
    "    record(AAPL=data[symbol(\"AAPL\")].price)\n",
    "    \n",
    "#pass in defined methods to algo obj\n",
    "algo_obj = TradingAlgorithm(initialize=initialize, handle_data=handle_data)\n",
    "\n",
    "#run algo\n",
    "aapl_df = algo_obj.run(stock_data)"
   ]
  },
  {
   "cell_type": "code",
   "execution_count": 38,
   "metadata": {
    "collapsed": false
   },
   "outputs": [
    {
     "data": {
      "text/html": [
       "<div>\n",
       "<table border=\"1\" class=\"dataframe\">\n",
       "  <thead>\n",
       "    <tr style=\"text-align: right;\">\n",
       "      <th></th>\n",
       "      <th>AAPL</th>\n",
       "      <th>capital_used</th>\n",
       "      <th>ending_cash</th>\n",
       "      <th>ending_value</th>\n",
       "      <th>orders</th>\n",
       "      <th>period_close</th>\n",
       "      <th>period_open</th>\n",
       "      <th>pnl</th>\n",
       "      <th>portfolio_value</th>\n",
       "      <th>positions</th>\n",
       "      <th>returns</th>\n",
       "      <th>starting_cash</th>\n",
       "      <th>starting_value</th>\n",
       "      <th>transactions</th>\n",
       "    </tr>\n",
       "  </thead>\n",
       "  <tbody>\n",
       "    <tr>\n",
       "      <th>2013-06-06 20:00:00</th>\n",
       "      <td>59.829950</td>\n",
       "      <td>0.00000</td>\n",
       "      <td>100000.00000</td>\n",
       "      <td>0.00000</td>\n",
       "      <td>[{u'status': 0, u'created': 2013-06-06 00:00:0...</td>\n",
       "      <td>2013-06-06 20:00:00+00:00</td>\n",
       "      <td>2013-06-06 13:31:00+00:00</td>\n",
       "      <td>0.00000</td>\n",
       "      <td>100000.00000</td>\n",
       "      <td>[]</td>\n",
       "      <td>0.000000</td>\n",
       "      <td>100000.0000</td>\n",
       "      <td>0.0000</td>\n",
       "      <td>[]</td>\n",
       "    </tr>\n",
       "    <tr>\n",
       "      <th>2013-06-07 20:00:00</th>\n",
       "      <td>60.287075</td>\n",
       "      <td>-1206.34150</td>\n",
       "      <td>98793.65850</td>\n",
       "      <td>1205.74150</td>\n",
       "      <td>[{u'status': 1, u'created': 2013-06-06 00:00:0...</td>\n",
       "      <td>2013-06-07 20:00:00+00:00</td>\n",
       "      <td>2013-06-07 13:31:00+00:00</td>\n",
       "      <td>-0.60000</td>\n",
       "      <td>99999.40000</td>\n",
       "      <td>[{u'amount': 20, u'last_sale_price': 60.287075...</td>\n",
       "      <td>-0.000006</td>\n",
       "      <td>100000.0000</td>\n",
       "      <td>0.0000</td>\n",
       "      <td>[{u'commission': 0.6, u'amount': 20, u'sid': u...</td>\n",
       "    </tr>\n",
       "    <tr>\n",
       "      <th>2013-06-10 20:00:00</th>\n",
       "      <td>59.888625</td>\n",
       "      <td>-1198.37250</td>\n",
       "      <td>97595.28600</td>\n",
       "      <td>2395.54500</td>\n",
       "      <td>[{u'status': 1, u'created': 2013-06-07 00:00:0...</td>\n",
       "      <td>2013-06-10 20:00:00+00:00</td>\n",
       "      <td>2013-06-10 13:31:00+00:00</td>\n",
       "      <td>-8.56900</td>\n",
       "      <td>99990.83100</td>\n",
       "      <td>[{u'amount': 40, u'last_sale_price': 59.888625...</td>\n",
       "      <td>-0.000086</td>\n",
       "      <td>98793.6585</td>\n",
       "      <td>1205.7415</td>\n",
       "      <td>[{u'commission': 0.6, u'amount': 20, u'sid': u...</td>\n",
       "    </tr>\n",
       "    <tr>\n",
       "      <th>2013-06-11 20:00:00</th>\n",
       "      <td>59.712600</td>\n",
       "      <td>-1194.85200</td>\n",
       "      <td>96400.43400</td>\n",
       "      <td>3582.75600</td>\n",
       "      <td>[{u'status': 1, u'created': 2013-06-10 00:00:0...</td>\n",
       "      <td>2013-06-11 20:00:00+00:00</td>\n",
       "      <td>2013-06-11 13:31:00+00:00</td>\n",
       "      <td>-7.64100</td>\n",
       "      <td>99983.19000</td>\n",
       "      <td>[{u'amount': 60, u'last_sale_price': 59.7126, ...</td>\n",
       "      <td>-0.000076</td>\n",
       "      <td>97595.2860</td>\n",
       "      <td>2395.5450</td>\n",
       "      <td>[{u'commission': 0.6, u'amount': 20, u'sid': u...</td>\n",
       "    </tr>\n",
       "    <tr>\n",
       "      <th>2013-06-12 20:00:00</th>\n",
       "      <td>58.974379</td>\n",
       "      <td>-1180.08758</td>\n",
       "      <td>95220.34642</td>\n",
       "      <td>4717.95032</td>\n",
       "      <td>[{u'status': 1, u'created': 2013-06-11 00:00:0...</td>\n",
       "      <td>2013-06-12 20:00:00+00:00</td>\n",
       "      <td>2013-06-12 13:31:00+00:00</td>\n",
       "      <td>-44.89326</td>\n",
       "      <td>99938.29674</td>\n",
       "      <td>[{u'amount': 80, u'last_sale_price': 58.974379...</td>\n",
       "      <td>-0.000449</td>\n",
       "      <td>96400.4340</td>\n",
       "      <td>3582.7560</td>\n",
       "      <td>[{u'commission': 0.6, u'amount': 20, u'sid': u...</td>\n",
       "    </tr>\n",
       "  </tbody>\n",
       "</table>\n",
       "</div>"
      ],
      "text/plain": [
       "                          AAPL  capital_used   ending_cash  ending_value  \\\n",
       "2013-06-06 20:00:00  59.829950       0.00000  100000.00000       0.00000   \n",
       "2013-06-07 20:00:00  60.287075   -1206.34150   98793.65850    1205.74150   \n",
       "2013-06-10 20:00:00  59.888625   -1198.37250   97595.28600    2395.54500   \n",
       "2013-06-11 20:00:00  59.712600   -1194.85200   96400.43400    3582.75600   \n",
       "2013-06-12 20:00:00  58.974379   -1180.08758   95220.34642    4717.95032   \n",
       "\n",
       "                                                                orders  \\\n",
       "2013-06-06 20:00:00  [{u'status': 0, u'created': 2013-06-06 00:00:0...   \n",
       "2013-06-07 20:00:00  [{u'status': 1, u'created': 2013-06-06 00:00:0...   \n",
       "2013-06-10 20:00:00  [{u'status': 1, u'created': 2013-06-07 00:00:0...   \n",
       "2013-06-11 20:00:00  [{u'status': 1, u'created': 2013-06-10 00:00:0...   \n",
       "2013-06-12 20:00:00  [{u'status': 1, u'created': 2013-06-11 00:00:0...   \n",
       "\n",
       "                                  period_close                period_open  \\\n",
       "2013-06-06 20:00:00  2013-06-06 20:00:00+00:00  2013-06-06 13:31:00+00:00   \n",
       "2013-06-07 20:00:00  2013-06-07 20:00:00+00:00  2013-06-07 13:31:00+00:00   \n",
       "2013-06-10 20:00:00  2013-06-10 20:00:00+00:00  2013-06-10 13:31:00+00:00   \n",
       "2013-06-11 20:00:00  2013-06-11 20:00:00+00:00  2013-06-11 13:31:00+00:00   \n",
       "2013-06-12 20:00:00  2013-06-12 20:00:00+00:00  2013-06-12 13:31:00+00:00   \n",
       "\n",
       "                          pnl  portfolio_value  \\\n",
       "2013-06-06 20:00:00   0.00000     100000.00000   \n",
       "2013-06-07 20:00:00  -0.60000      99999.40000   \n",
       "2013-06-10 20:00:00  -8.56900      99990.83100   \n",
       "2013-06-11 20:00:00  -7.64100      99983.19000   \n",
       "2013-06-12 20:00:00 -44.89326      99938.29674   \n",
       "\n",
       "                                                             positions  \\\n",
       "2013-06-06 20:00:00                                                 []   \n",
       "2013-06-07 20:00:00  [{u'amount': 20, u'last_sale_price': 60.287075...   \n",
       "2013-06-10 20:00:00  [{u'amount': 40, u'last_sale_price': 59.888625...   \n",
       "2013-06-11 20:00:00  [{u'amount': 60, u'last_sale_price': 59.7126, ...   \n",
       "2013-06-12 20:00:00  [{u'amount': 80, u'last_sale_price': 58.974379...   \n",
       "\n",
       "                      returns  starting_cash  starting_value  \\\n",
       "2013-06-06 20:00:00  0.000000    100000.0000          0.0000   \n",
       "2013-06-07 20:00:00 -0.000006    100000.0000          0.0000   \n",
       "2013-06-10 20:00:00 -0.000086     98793.6585       1205.7415   \n",
       "2013-06-11 20:00:00 -0.000076     97595.2860       2395.5450   \n",
       "2013-06-12 20:00:00 -0.000449     96400.4340       3582.7560   \n",
       "\n",
       "                                                          transactions  \n",
       "2013-06-06 20:00:00                                                 []  \n",
       "2013-06-07 20:00:00  [{u'commission': 0.6, u'amount': 20, u'sid': u...  \n",
       "2013-06-10 20:00:00  [{u'commission': 0.6, u'amount': 20, u'sid': u...  \n",
       "2013-06-11 20:00:00  [{u'commission': 0.6, u'amount': 20, u'sid': u...  \n",
       "2013-06-12 20:00:00  [{u'commission': 0.6, u'amount': 20, u'sid': u...  "
      ]
     },
     "execution_count": 38,
     "metadata": {},
     "output_type": "execute_result"
    }
   ],
   "source": [
    "aapl_df.head()"
   ]
  },
  {
   "cell_type": "code",
   "execution_count": 39,
   "metadata": {
    "collapsed": false
   },
   "outputs": [
    {
     "data": {
      "text/plain": [
       "Index([u'AAPL', u'capital_used', u'ending_cash', u'ending_value', u'orders',\n",
       "       u'period_close', u'period_open', u'pnl', u'portfolio_value',\n",
       "       u'positions', u'returns', u'starting_cash', u'starting_value',\n",
       "       u'transactions'],\n",
       "      dtype='object')"
      ]
     },
     "execution_count": 39,
     "metadata": {},
     "output_type": "execute_result"
    }
   ],
   "source": [
    "aapl_df.columns"
   ]
  },
  {
   "cell_type": "code",
   "execution_count": 41,
   "metadata": {
    "collapsed": false
   },
   "outputs": [],
   "source": [
    "aapl_trans = aapl_df[[\"AAPL\", \"transactions\"]]"
   ]
  },
  {
   "cell_type": "code",
   "execution_count": 42,
   "metadata": {
    "collapsed": false
   },
   "outputs": [
    {
     "data": {
      "text/html": [
       "<div>\n",
       "<table border=\"1\" class=\"dataframe\">\n",
       "  <thead>\n",
       "    <tr style=\"text-align: right;\">\n",
       "      <th></th>\n",
       "      <th>AAPL</th>\n",
       "      <th>transactions</th>\n",
       "    </tr>\n",
       "  </thead>\n",
       "  <tbody>\n",
       "    <tr>\n",
       "      <th>2013-06-06 20:00:00</th>\n",
       "      <td>59.829950</td>\n",
       "      <td>[]</td>\n",
       "    </tr>\n",
       "    <tr>\n",
       "      <th>2013-06-07 20:00:00</th>\n",
       "      <td>60.287075</td>\n",
       "      <td>[{u'commission': 0.6, u'amount': 20, u'sid': u...</td>\n",
       "    </tr>\n",
       "    <tr>\n",
       "      <th>2013-06-10 20:00:00</th>\n",
       "      <td>59.888625</td>\n",
       "      <td>[{u'commission': 0.6, u'amount': 20, u'sid': u...</td>\n",
       "    </tr>\n",
       "    <tr>\n",
       "      <th>2013-06-11 20:00:00</th>\n",
       "      <td>59.712600</td>\n",
       "      <td>[{u'commission': 0.6, u'amount': 20, u'sid': u...</td>\n",
       "    </tr>\n",
       "    <tr>\n",
       "      <th>2013-06-12 20:00:00</th>\n",
       "      <td>58.974379</td>\n",
       "      <td>[{u'commission': 0.6, u'amount': 20, u'sid': u...</td>\n",
       "    </tr>\n",
       "  </tbody>\n",
       "</table>\n",
       "</div>"
      ],
      "text/plain": [
       "                          AAPL  \\\n",
       "2013-06-06 20:00:00  59.829950   \n",
       "2013-06-07 20:00:00  60.287075   \n",
       "2013-06-10 20:00:00  59.888625   \n",
       "2013-06-11 20:00:00  59.712600   \n",
       "2013-06-12 20:00:00  58.974379   \n",
       "\n",
       "                                                          transactions  \n",
       "2013-06-06 20:00:00                                                 []  \n",
       "2013-06-07 20:00:00  [{u'commission': 0.6, u'amount': 20, u'sid': u...  \n",
       "2013-06-10 20:00:00  [{u'commission': 0.6, u'amount': 20, u'sid': u...  \n",
       "2013-06-11 20:00:00  [{u'commission': 0.6, u'amount': 20, u'sid': u...  \n",
       "2013-06-12 20:00:00  [{u'commission': 0.6, u'amount': 20, u'sid': u...  "
      ]
     },
     "execution_count": 42,
     "metadata": {},
     "output_type": "execute_result"
    }
   ],
   "source": [
    "aapl_trans.head()"
   ]
  },
  {
   "cell_type": "code",
   "execution_count": 46,
   "metadata": {
    "collapsed": false
   },
   "outputs": [
    {
     "data": {
      "text/plain": [
       "[{'amount': 20,\n",
       "  'commission': 0.6,\n",
       "  'dt': Timestamp('2013-06-07 00:00:00+0000', tz='UTC'),\n",
       "  'order_id': 'fc39d8014ffb4b5697ac80edd5a12a4f',\n",
       "  'price': 60.31707500000024,\n",
       "  'sid': 'AAPL'}]"
      ]
     },
     "execution_count": 46,
     "metadata": {},
     "output_type": "execute_result"
    }
   ],
   "source": [
    "aapl_trans.iloc[1][\"transactions\"]"
   ]
  },
  {
   "cell_type": "code",
   "execution_count": 65,
   "metadata": {
    "collapsed": false
   },
   "outputs": [
    {
     "data": {
      "text/plain": [
       "71.204914600790531"
      ]
     },
     "execution_count": 65,
     "metadata": {},
     "output_type": "execute_result"
    }
   ],
   "source": [
    "aapl_trans[\"transactions\"][2]\n",
    "\n",
    "sum(aapl_trans[\"AAPL\"])/len(aapl_trans[\"AAPL\"])\n",
    "\n",
    "aapl_trans[\"AAPL\"].mean()"
   ]
  },
  {
   "cell_type": "code",
   "execution_count": 56,
   "metadata": {
    "collapsed": false
   },
   "outputs": [],
   "source": [
    "sum_commision = sum([data[0][\"commission\"] for data in aapl_trans[\"transactions\"] if len(data) > 0])"
   ]
  },
  {
   "cell_type": "code",
   "execution_count": 5,
   "metadata": {
    "collapsed": true
   },
   "outputs": [],
   "source": [
    "import zipline"
   ]
  },
  {
   "cell_type": "code",
   "execution_count": 6,
   "metadata": {
    "collapsed": false
   },
   "outputs": [
    {
     "name": "stdout",
     "output_type": "stream",
     "text": [
      "Populating the interactive namespace from numpy and matplotlib\n"
     ]
    },
    {
     "name": "stderr",
     "output_type": "stream",
     "text": [
      "WARNING: pylab import has clobbered these variables: ['record']\n",
      "`%matplotlib` prevents importing * from pylab and numpy\n"
     ]
    }
   ],
   "source": [
    "%pylab inline\n",
    "figsize(12, 12)"
   ]
  },
  {
   "cell_type": "code",
   "execution_count": 7,
   "metadata": {
    "collapsed": true
   },
   "outputs": [],
   "source": [
    "import zipline"
   ]
  },
  {
   "cell_type": "code",
   "execution_count": 8,
   "metadata": {
    "collapsed": false
   },
   "outputs": [
    {
     "name": "stdout",
     "output_type": "stream",
     "text": [
      "AAPL\n"
     ]
    },
    {
     "data": {
      "image/png": "[encoded data removed]",
      "text/plain": [
       "<matplotlib.figure.Figure at 0x118326cd0>"
      ]
     },
     "metadata": {},
     "output_type": "display_data"
    }
   ],
   "source": [
    "%%zipline --start 2000-1-1 --end 2004-1-1 --symbols AAPL -o df_mvavg\n",
    "\n",
    "#moving avg example\n",
    "\n",
    "from zipline.api import order_target, record, symbol, history, add_history\n",
    "import numpy as np\n",
    "import matplotlib.pyplot as plt\n",
    "\n",
    "def initialize(context):\n",
    "    #2 histories with daily prices - 100 & 300 windows\n",
    "    add_history(100, \"1d\", \"price\")\n",
    "    add_history(300, \"1d\", \"price\")\n",
    "    \n",
    "    #arbitrary counter\n",
    "    context.i = 0\n",
    "\n",
    "def handle_data(context, data):\n",
    "    #skip first 300 days for full windows\n",
    "    context.i += 1 \n",
    "    \n",
    "    if context.i < 300:\n",
    "        return\n",
    "    \n",
    "    #compute moving average; returned as dataframe\n",
    "    short_mavg = history(100, \"1d\", \"price\").mean()\n",
    "    long_mavg = history(300, \"1d\", \"price\").mean()\n",
    "    \n",
    "    #Trading logic \n",
    "    #long position when short mavg > long\n",
    "    #exit position when short < long \n",
    "    if short_mavg[0] > long_mavg[0]:\n",
    "        order_target(symbol(\"AAPL\"), 100)\n",
    "    else:\n",
    "        order_target(symbol(\"AAPL\"), 0)\n",
    "    \n",
    "    #save values for inspection\n",
    "    record(AAPL=data[symbol(\"AAPL\")].price,\n",
    "           short_mavg=short_mavg[0],\n",
    "           long_mavg=long_mavg[0])\n",
    "    \n",
    "def analyze(context, perf):\n",
    "    #portfolio val\n",
    "    fig = plt.figure()\n",
    "    ax1 = fig.add_subplot(211)\n",
    "    perf.portfolio_value.plot(ax=ax1)\n",
    "    ax1.set_ylabel(\"portfolio value in $\")\n",
    "    \n",
    "    #short and long mov avg\n",
    "    ax2 = fig.add_subplot(212)\n",
    "    perf[\"AAPL\"].plot(ax=ax2)\n",
    "    perf[[\"short_mavg\", \"long_mavg\"]].plot(ax=ax2)\n",
    "    \n",
    "    #portfolio transactions\n",
    "    trans = perf.ix[[t != [] for t in perf.transactions]]\n",
    "    buys = perf.ix[[t[0][\"amount\"] > 0 for t in trans.transactions]]\n",
    "    sells = perf.ix[[t[0][\"amount\"] < 0 for t in trans.transactions]]\n",
    "    \n",
    "    ax2.plot(buys.index, perf.short_mavg.ix[buys.index],\n",
    "             \"^\", markersize=10, color=\"m\")\n",
    "    ax2.plot(sells.index, perf.short_mavg.ix[sells.index],\n",
    "             \"v\", markersize=10, color=\"k\")\n",
    "    ax2.set_ylabel(\"price in $\")\n",
    "    \n",
    "    plt.legend(loc=0)\n",
    "    plt.show()"
   ]
  }
 ],
 "metadata": {
  "kernelspec": {
   "display_name": "Python 2",
   "language": "python",
   "name": "python2"
  },
  "language_info": {
   "codemirror_mode": {
    "name": "ipython",
    "version": 2
   },
   "file_extension": ".py",
   "mimetype": "text/x-python",
   "name": "python",
   "nbconvert_exporter": "python",
   "pygments_lexer": "ipython2",
   "version": "2.7.10"
  }
 },
 "nbformat": 4,
 "nbformat_minor": 0
}
